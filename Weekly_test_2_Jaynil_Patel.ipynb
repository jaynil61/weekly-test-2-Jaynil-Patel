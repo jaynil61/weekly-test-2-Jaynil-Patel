{
  "nbformat": 4,
  "nbformat_minor": 0,
  "metadata": {
    "colab": {
      "provenance": []
    },
    "kernelspec": {
      "name": "python3",
      "display_name": "Python 3"
    },
    "language_info": {
      "name": "python"
    }
  },
  "cells": [
    {
      "cell_type": "code",
      "execution_count": null,
      "metadata": {
        "id": "SoW3vnMxLS10"
      },
      "outputs": [],
      "source": [
        "# Weekly-Test-2      - Jaynil Patel"
      ]
    },
    {
      "cell_type": "code",
      "source": [
        "import requests\n",
        "from bs4 import BeautifulSoup"
      ],
      "metadata": {
        "id": "oB2TceLJLaXU"
      },
      "execution_count": 3,
      "outputs": []
    },
    {
      "cell_type": "code",
      "source": [
        "headers = {'User-Agent':'Mozilla/5.0'}\n",
        "url = 'https://stackoverflow.com/questions/415511/how-do-i-get-the-current-time-in-python'"
      ],
      "metadata": {
        "id": "Tcci1qQHL6Pp"
      },
      "execution_count": 4,
      "outputs": []
    },
    {
      "cell_type": "code",
      "source": [
        "response = requests.get(url, headers=headers)"
      ],
      "metadata": {
        "id": "Y2aG7DwJMQdZ"
      },
      "execution_count": 5,
      "outputs": []
    },
    {
      "cell_type": "code",
      "source": [
        "response"
      ],
      "metadata": {
        "colab": {
          "base_uri": "https://localhost:8080/"
        },
        "id": "S4iKSNYCMZLz",
        "outputId": "d08e38d9-1015-4985-a27a-81e527df3ce6"
      },
      "execution_count": 6,
      "outputs": [
        {
          "output_type": "execute_result",
          "data": {
            "text/plain": [
              "<Response [200]>"
            ]
          },
          "metadata": {},
          "execution_count": 6
        }
      ]
    },
    {
      "cell_type": "code",
      "source": [
        "soup = BeautifulSoup(response.content,'html.parser')"
      ],
      "metadata": {
        "id": "Kyyk_9KAMb9t"
      },
      "execution_count": 7,
      "outputs": []
    },
    {
      "cell_type": "code",
      "source": [
        "question = soup.find('a',class_='question-hyperlink').text\n",
        "print(question)"
      ],
      "metadata": {
        "colab": {
          "base_uri": "https://localhost:8080/"
        },
        "id": "-F7ERLL5NGEo",
        "outputId": "b00b5275-13f3-4b0c-b06e-b5d8d667951b"
      },
      "execution_count": 8,
      "outputs": [
        {
          "output_type": "stream",
          "name": "stdout",
          "text": [
            "How do I get the current time in Python?\n"
          ]
        }
      ]
    },
    {
      "cell_type": "code",
      "source": [
        "answers = soup.find_all('div', class_='s-prose js-post-body')"
      ],
      "metadata": {
        "id": "TXisQopbQHOy"
      },
      "execution_count": 9,
      "outputs": []
    },
    {
      "cell_type": "code",
      "source": [
        "answers_content = [i.get_text(strip=True) for i in answers]\n",
        "print(answers_content)"
      ],
      "metadata": {
        "colab": {
          "base_uri": "https://localhost:8080/"
        },
        "id": "dFrJaJ6OQaO6",
        "outputId": "da4ab3be-f36a-4245-ded9-fd37127218de"
      },
      "execution_count": 10,
      "outputs": [
        {
          "output_type": "stream",
          "name": "stdout",
          "text": [
            "['How do I get the current time in Python?', 'Usedatetime:>>> import datetime\\n>>> now = datetime.datetime.now()\\n>>> now\\ndatetime.datetime(2009, 1, 6, 15, 8, 24, 78915)\\n>>> print(now)\\n2009-01-06 15:08:24.789150For just the clock time without the date:>>> now.time()\\ndatetime.time(15, 8, 24, 78915)\\n>>> print(now.time())\\n15:08:24.789150To save typing, you can import thedatetimeobject from thedatetimemodule:>>> from datetime import datetimeThen remove the prefixdatetime.from all of the above.', 'Usetime.strftime():>>> from time import gmtime, strftime\\n>>> strftime(\"%Y-%m-%d %H:%M:%S\", gmtime())\\n\\'2009-01-05 22:14:39\\'', \"from datetime import datetime\\ndatetime.now().strftime('%Y-%m-%d %H:%M:%S')Example output:'2013-09-18 11:16:32'See list ofstrftimedirectives.\", \"Similar toHarley's answer, but use thestr()function for a quick-n-dirty, slightly more human readable format:>>> from datetime import datetime\\n>>> str(datetime.now())\\n'2011-05-03 17:45:35.177000'\", 'How do I get the current time in Python?ThetimemoduleThetimemodule provides functions that tell us the time in \"seconds since the epoch\" as well as other utilities.import timeUnix Epoch TimeThis is the format you should get timestamps in for saving in databases. It is a simple floating-point number that can be converted to an integer. It is also good for arithmetic in seconds, as it represents the number of seconds since Jan 1, 1970, 00:00:00, and it is memory light relative to the other representations of time we\\'ll be looking at next:>>> time.time()\\n1424233311.771502This timestamp does not account for leap-seconds, so it\\'s not linear - leap seconds are ignored. So while it is not equivalent to the international UTC standard, it is close, and therefore quite good for most cases of record-keeping.This is not ideal for human scheduling, however. If you have a future event you wish to take place at a certain point in time, you\\'ll want to store that time with a string that can be parsed into adatetimeobject or a serializeddatetimeobject (these will be described later).time.ctimeYou can also represent the current time in the way preferred by your operating system (which means it can change when you change your system preferences, so don\\'t rely on this to be standard across all systems, as I\\'ve seen others expect). This is typically user friendly, but doesn\\'t typically result in strings one can sort chronologically:>>> time.ctime()\\n\\'Tue Feb 17 23:21:56 2015\\'You can hydrate timestamps into human readable form withctimeas well:>>> time.ctime(1424233311.771502)\\n\\'Tue Feb 17 23:21:51 2015\\'This conversion is also not good for record-keeping (except in text that will only be parsed by humans - and with improved Optical Character Recognition and Artificial Intelligence, I think the number of these cases will diminish).datetimemoduleThedatetimemodule is also quite useful here:>>> import datetimedatetime.datetime.nowThedatetime.nowis a class method that returns the current time. It uses thetime.localtimewithout the timezone info (if not given, otherwise see timezone aware below). It has a representation (which would allow you to recreate an equivalent object) echoed on the shell, but when printed (or coerced to astr), it is in human readable (and nearly ISO) format, and the lexicographic sort is equivalent to the chronological sort:>>> datetime.datetime.now()\\ndatetime.datetime(2015, 2, 17, 23, 43, 49, 94252)\\n>>> print(datetime.datetime.now())\\n2015-02-17 23:43:51.782461datetime\\'sutcnowYou can get a datetime object in UTC time, a global standard, by doing this:>>> datetime.datetime.utcnow()\\ndatetime.datetime(2015, 2, 18, 4, 53, 28, 394163)\\n>>> print(datetime.datetime.utcnow())\\n2015-02-18 04:53:31.783988UTC is a time standard that is nearly equivalent to the GMT timezone. (While GMT and UTC do not change for Daylight Savings Time, their users may switch to other timezones, like British Summer Time, during the Summer.)datetime timezone awareHowever, none of the datetime objects we\\'ve created so far can be easily converted to various timezones. We can solve that problem with thepytzmodule:>>> import pytz\\n>>> then = datetime.datetime.now(pytz.utc)\\n>>> then\\ndatetime.datetime(2015, 2, 18, 4, 55, 58, 753949, tzinfo=<UTC>)Equivalently, in Python 3 we have thetimezoneclass with a utctimezoneinstance attached, which also makes the object timezone aware (but to convert to another timezone without the handypytzmodule is left as an exercise to the reader):>>> datetime.datetime.now(datetime.timezone.utc)\\ndatetime.datetime(2015, 2, 18, 22, 31, 56, 564191, tzinfo=datetime.timezone.utc)And we see we can easily convert to timezones from the original UTC object.>>> print(then)\\n2015-02-18 04:55:58.753949+00:00\\n>>> print(then.astimezone(pytz.timezone(\\'US/Eastern\\')))\\n2015-02-17 23:55:58.753949-05:00You can also make a naive datetime object aware with thepytztimezonelocalizemethod, or by replacing the tzinfo attribute (withreplace, this is done blindly), but these are more last resorts than best practices:>>> pytz.utc.localize(datetime.datetime.utcnow())\\ndatetime.datetime(2015, 2, 18, 6, 6, 29, 32285, tzinfo=<UTC>)\\n>>> datetime.datetime.utcnow().replace(tzinfo=pytz.utc)\\ndatetime.datetime(2015, 2, 18, 6, 9, 30, 728550, tzinfo=<UTC>)Thepytzmodule allows us to make ourdatetimeobjects timezone aware and convert the times to the hundreds of timezones available in thepytzmodule.One could ostensibly serialize this object for UTC time and storethatin a database, but it would require far more memory and be more prone to error than simply storing the Unix Epoch time, which I demonstrated first.The other ways of viewing times are much more error-prone, especially when dealing with data that may come from different time zones. You want there to be no confusion as to which timezone a string or serialized datetime object was intended for.If you\\'re displaying the time with Python for the user,ctimeworks nicely, not in a table (it doesn\\'t typically sort well), but perhaps in a clock. However, I personally recommend, when dealing with time in Python, either using Unix time, or a timezone aware UTCdatetimeobject.', 'Dofrom time import time\\n\\nt = time()t- float number, good for time interval measurement.There is some difference for Unix and Windows platforms.', '>>> from time import gmtime, strftime\\n>>> strftime(\"%a, %d %b %Y %X +0000\", gmtime())\\n\\'Tue, 06 Jan 2009 04:54:56 +0000\\'That outputs the current GMT in the specified format. There is also alocaltime()method.Thispagehas more details.', \"The previous answers are all good suggestions, but I find it easiest to usectime():In [2]: from time import ctime\\nIn [3]: ctime()\\nOut[3]: 'Thu Oct 31 11:40:53 2013'This gives a nicely formatted string representation of the current local time.\", 'The quickest way is:>>> import time\\n>>> time.strftime(\"%Y%m%d\")\\n\\'20130924\\'', 'If you need current time as atimeobject:>>> import datetime\\n>>> now = datetime.datetime.now()\\n>>> datetime.time(now.hour, now.minute, now.second)\\ndatetime.time(11, 23, 44)', 'You can use thetimemodule:>>> import time\\n>>> print(time.strftime(\"%d/%m/%Y\"))\\n06/02/2015The use of the capitalYgives the full year, and usingywould give06/02/15.You could also use the following code to give a more lengthy time:>>> time.strftime(\"%a, %d %b %Y %H:%M:%S\")\\n\\'Fri, 06 Feb 2015 17:45:09\\'', \".isoformat()is in the documentation, but not yet here\\n(this is mighty similar to @Ray Vega's answer):>>> import datetime\\n>>> datetime.datetime.now().isoformat()\\n'2013-06-24T20:35:55.982000'\", \"Why not ask theU.S. Naval Observatory, the official timekeeper of the United States Navy?import requests\\nfrom lxml import html\\n\\npage = requests.get('http://tycho.usno.navy.mil/cgi-bin/timer.pl')\\ntree = html.fromstring(page.content)\\nprint(tree.xpath('//html//body//h3//pre/text()')[1])If you live in the D.C. area (like me) the latency might not be too bad...\", 'Usingpandasto get the current time, kind of overkilling the problem at hand:import pandas as pd\\nprint(pd.datetime.now())\\nprint(pd.datetime.now().date())\\nprint(pd.datetime.now().year)\\nprint(pd.datetime.now().month)\\nprint(pd.datetime.now().day)\\nprint(pd.datetime.now().hour)\\nprint(pd.datetime.now().minute)\\nprint(pd.datetime.now().second)\\nprint(pd.datetime.now().microsecond)Output:2017-09-22 12:44:56.092642\\n2017-09-22\\n2017\\n9\\n22\\n12\\n44\\n56\\n92693', \"if you are using numpy already then directly you can use numpy.datetime64() \\nfunction.import numpy as np\\nstr(np.datetime64('now'))for only date:str(np.datetime64('today'))or, if you are using pandas already then you can use pandas.to_datetime() functionimport pandas as pd\\nstr(pd.to_datetime('now'))or,str(pd.to_datetime('today'))\", 'This is what I ended up going with:>>>from time import strftime\\n>>>strftime(\"%m/%d/%Y %H:%M\")\\n01/09/2015 13:11Also, this table is a necessary reference for choosing the appropriate format codes to get the date formatted just the way you want it (from Python \"datetime\" documentationhere).', 'datetime.now()returns the current time as a naive datetime object that represents time in the local timezone. That value may be ambiguous e.g., during DST transitions (\"fall back\"). To avoid ambiguity either UTC timezone should be used:from datetime import datetime\\n\\nutc_time = datetime.utcnow()\\nprint(utc_time) # -> 2014-12-22 22:48:59.916417Or a timezone-aware object that has the corresponding timezone info attached (Python 3.2+):from datetime import datetime, timezone\\n\\nnow = datetime.now(timezone.utc).astimezone()\\nprint(now) # -> 2014-12-23 01:49:25.837541+03:00', \"This question doesn't need a new answer just for the sake of it ... a shiny new-ish toy/module, however, is enough justification.  That being thePendulum library, which appears to do the sort of things which arrow attempted, except without the inherent flaws and bugs which beset arrow.For instance, the answer to the original question:>>> import pendulum\\n>>> print(pendulum.now())\\n2018-08-14T05:29:28.315802+10:00\\n>>> print(pendulum.now('utc'))\\n2018-08-13T19:29:35.051023+00:00There's a lot of standards which need addressing, including multiple RFCs and ISOs, to worry about.  Ever get them mixed up; not to worry, take a little look intodir(pendulum.constants)There's a bit more than RFC and ISO formats there, though.When we say local, though what do we mean?  Well I mean:>>> print(pendulum.now().timezone_name)\\nAustralia/Melbourne\\n>>>Presumably most of the rest of you mean somewhere else.And on it goes.  Long story short: Pendulum attempts to do for date and time what requests did for HTTP.  It's worth consideration, particularly for both its ease of use and extensive documentation.\", 'import datetime\\ndate_time = datetime.datetime.now()\\n\\ndate = date_time.date()  # Gives the date\\ntime = date_time.time()  # Gives the time\\n\\nprint date.year, date.month, date.day\\nprint time.hour, time.minute, time.second, time.microsecondDodir(date)or any variables including the package. You can get all the attributes and methods associated with the variable.', '>>> import datetime, time\\n>>> time = time.strftime(\"%H:%M:%S:%MS\", time.localtime())\\n>>> print time\\n\\'00:21:38:20S\\'', 'By default,now()function returns output in theYYYY-MM-DD HH:MM:SS:MSformat. Use the below sample script to get the current date and time in a Python script and print results on the screen. Create filegetDateTime1.pywith the below content.import datetime\\n\\ncurrentDT = datetime.datetime.now()\\nprint (str(currentDT))The output looks like below:2018-03-01 17:03:46.759624', \"Try the arrow module fromhttp://crsmithdev.com/arrow/:import arrow\\narrow.now()Or the UTC version:arrow.utcnow()To change its output, add .format():arrow.utcnow().format('YYYY-MM-DD HH:mm:ss ZZ')For a specific timezone:arrow.now('US/Pacific')An hour ago:arrow.utcnow().replace(hours=-1)Or if you want the gist.arrow.get('2013-05-11T21:23:58.970460+00:00').humanize()\\n>>> '2 years ago'\", 'Current time of a timezonefrom datetime import datetime\\nimport pytz\\n\\ntz_NY = pytz.timezone(\\'America/New_York\\') \\ndatetime_NY = datetime.now(tz_NY)\\nprint(\"NY time:\", datetime_NY.strftime(\"%H:%M:%S\"))\\n\\ntz_London = pytz.timezone(\\'Europe/London\\')\\ndatetime_London = datetime.now(tz_London)\\nprint(\"London time:\", datetime_London.strftime(\"%H:%M:%S\"))\\n\\ntz_India = pytz.timezone(\\'Asia/India\\')\\ndatetime_India = datetime.now(tz_India)\\nprint(\"India time:\", datetime_India.strftime(\"%H:%M:%S\"))\\n\\n#list timezones\\npytz.all_timezones', 'To get exactly3decimal pointsfor milliseconds11:34:23.751run this:def get_time_str(decimal_points=3):\\n        return time.strftime(\"%H:%M:%S\", time.localtime()) + \\'.%d\\' % (time.time() % 1 * 10**decimal_points)More context:I want to get the time with milliseconds. A simple way to get them:import time, datetime\\n\\nprint(datetime.datetime.now().time())                         # 11:20:08.272239\\n\\n# Or in a more complicated way\\nprint(datetime.datetime.now().time().isoformat())             # 11:20:08.272239\\nprint(datetime.datetime.now().time().strftime(\\'%H:%M:%S.%f\\')) # 11:20:08.272239\\n\\n# But do not use this:\\nprint(time.strftime(\"%H:%M:%S.%f\", time.localtime()), str)    # 11:20:08.%fBut I wantonly milliseconds, right? The shortest way to get them:import time\\n\\ntime.strftime(\"%H:%M:%S\", time.localtime()) + \\'.%d\\' % (time.time() % 1 * 1000)\\n# 11:34:23.751Add or remove zeroes from the last multiplication to adjust number of decimal points, or just:def get_time_str(decimal_points=3):\\n    return time.strftime(\"%H:%M:%S\", time.localtime()) + \\'.%d\\' % (time.time() % 1 * 10**decimal_points)', 'If you just want the current timestamp in ms (for example, to measure execution time), you can also use the \"timeit\" module:import timeit\\nstart_time = timeit.default_timer()\\ndo_stuff_you_want_to_measure()\\nend_time = timeit.default_timer()\\nprint(\"Elapsed time: {}\".format(end_time - start_time))', \"You can use this function to get the time (unfortunately it doesn't say AM or PM):def gettime():\\n    from datetime import datetime\\n    return ((str(datetime.now())).split(' ')[1]).split('.')[0]To get the hours, minutes, seconds and milliseconds to merge later, you can use these functions:Hour:def gethour():\\n    from datetime import datetime\\n    return (((str(datetime.now())).split(' ')[1]).split('.')[0]).split(':')[0]Minute:def getminute():\\n    from datetime import datetime\\n    return (((str(datetime.now())).split(' ')[1]).split('.')[0]).split(':')[1]Second:def getsecond():\\n    from datetime import datetime\\n    return (((str(datetime.now())).split(' ')[1]).split('.')[0]).split(':')[2]Millisecond:def getmillisecond():\\n    from datetime import datetime\\n    return (str(datetime.now())).split('.')[1]\", 'You can  try the followingimport datetime\\n\\nnow = datetime.datetime.now()\\nprint(now)orimport datetime\\n\\nnow = datetime.datetime.now()\\nprint(now.strftime(\"%Y-%b-%d, %A %I:%M:%S\"))', 'Because no one has mentioned it yet, and this is something I ran into recently... a pytz timezone\\'s fromutc() method combined with datetime\\'s utcnow() is the best way I\\'ve found to get a useful current time (and date) in any timezone.from datetime import datetime\\n\\nimport pytz\\n\\n\\nJST = pytz.timezone(\"Asia/Tokyo\")\\n\\n\\nlocal_time = JST.fromutc(datetime.utcnow())If all you want is the time, you can then get that withlocal_time.time().', \"import datetime\\n\\ntodays_date = datetime.date.today()\\nprint(todays_date)\\n>>> 2019-10-12\\n\\n# adding strftime will remove the seconds\\ncurrent_time = datetime.datetime.now().strftime('%H:%M')\\nprint(current_time)\\n>>> 23:38\", 'You can do so using ctime():from time import time, ctime\\nt = time()\\nctime(t)output:Sat Sep 14 21:27:08 2019These outputs are different because the timestamp returned byctime()depends on your geographical location.']\n"
          ]
        }
      ]
    },
    {
      "cell_type": "code",
      "source": [
        "print(f\"Question: {question}\")\n",
        "print(\"Answers:\")\n",
        "print('*'*200)\n",
        "for i, answer in enumerate(answers_content[1:], 1):\n",
        "    print(f\"Answer {i}: {answer}\\n\")\n",
        "    print('*'*200)"
      ],
      "metadata": {
        "colab": {
          "base_uri": "https://localhost:8080/"
        },
        "id": "sdeXlyyjYBS_",
        "outputId": "44ae1607-dbd6-484e-f7e9-ad412460a736"
      },
      "execution_count": 12,
      "outputs": [
        {
          "output_type": "stream",
          "name": "stdout",
          "text": [
            "Question: How do I get the current time in Python?\n",
            "Answers:\n",
            "********************************************************************************************************************************************************************************************************\n",
            "Answer 1: Usedatetime:>>> import datetime\n",
            ">>> now = datetime.datetime.now()\n",
            ">>> now\n",
            "datetime.datetime(2009, 1, 6, 15, 8, 24, 78915)\n",
            ">>> print(now)\n",
            "2009-01-06 15:08:24.789150For just the clock time without the date:>>> now.time()\n",
            "datetime.time(15, 8, 24, 78915)\n",
            ">>> print(now.time())\n",
            "15:08:24.789150To save typing, you can import thedatetimeobject from thedatetimemodule:>>> from datetime import datetimeThen remove the prefixdatetime.from all of the above.\n",
            "\n",
            "********************************************************************************************************************************************************************************************************\n",
            "Answer 2: Usetime.strftime():>>> from time import gmtime, strftime\n",
            ">>> strftime(\"%Y-%m-%d %H:%M:%S\", gmtime())\n",
            "'2009-01-05 22:14:39'\n",
            "\n",
            "********************************************************************************************************************************************************************************************************\n",
            "Answer 3: from datetime import datetime\n",
            "datetime.now().strftime('%Y-%m-%d %H:%M:%S')Example output:'2013-09-18 11:16:32'See list ofstrftimedirectives.\n",
            "\n",
            "********************************************************************************************************************************************************************************************************\n",
            "Answer 4: Similar toHarley's answer, but use thestr()function for a quick-n-dirty, slightly more human readable format:>>> from datetime import datetime\n",
            ">>> str(datetime.now())\n",
            "'2011-05-03 17:45:35.177000'\n",
            "\n",
            "********************************************************************************************************************************************************************************************************\n",
            "Answer 5: How do I get the current time in Python?ThetimemoduleThetimemodule provides functions that tell us the time in \"seconds since the epoch\" as well as other utilities.import timeUnix Epoch TimeThis is the format you should get timestamps in for saving in databases. It is a simple floating-point number that can be converted to an integer. It is also good for arithmetic in seconds, as it represents the number of seconds since Jan 1, 1970, 00:00:00, and it is memory light relative to the other representations of time we'll be looking at next:>>> time.time()\n",
            "1424233311.771502This timestamp does not account for leap-seconds, so it's not linear - leap seconds are ignored. So while it is not equivalent to the international UTC standard, it is close, and therefore quite good for most cases of record-keeping.This is not ideal for human scheduling, however. If you have a future event you wish to take place at a certain point in time, you'll want to store that time with a string that can be parsed into adatetimeobject or a serializeddatetimeobject (these will be described later).time.ctimeYou can also represent the current time in the way preferred by your operating system (which means it can change when you change your system preferences, so don't rely on this to be standard across all systems, as I've seen others expect). This is typically user friendly, but doesn't typically result in strings one can sort chronologically:>>> time.ctime()\n",
            "'Tue Feb 17 23:21:56 2015'You can hydrate timestamps into human readable form withctimeas well:>>> time.ctime(1424233311.771502)\n",
            "'Tue Feb 17 23:21:51 2015'This conversion is also not good for record-keeping (except in text that will only be parsed by humans - and with improved Optical Character Recognition and Artificial Intelligence, I think the number of these cases will diminish).datetimemoduleThedatetimemodule is also quite useful here:>>> import datetimedatetime.datetime.nowThedatetime.nowis a class method that returns the current time. It uses thetime.localtimewithout the timezone info (if not given, otherwise see timezone aware below). It has a representation (which would allow you to recreate an equivalent object) echoed on the shell, but when printed (or coerced to astr), it is in human readable (and nearly ISO) format, and the lexicographic sort is equivalent to the chronological sort:>>> datetime.datetime.now()\n",
            "datetime.datetime(2015, 2, 17, 23, 43, 49, 94252)\n",
            ">>> print(datetime.datetime.now())\n",
            "2015-02-17 23:43:51.782461datetime'sutcnowYou can get a datetime object in UTC time, a global standard, by doing this:>>> datetime.datetime.utcnow()\n",
            "datetime.datetime(2015, 2, 18, 4, 53, 28, 394163)\n",
            ">>> print(datetime.datetime.utcnow())\n",
            "2015-02-18 04:53:31.783988UTC is a time standard that is nearly equivalent to the GMT timezone. (While GMT and UTC do not change for Daylight Savings Time, their users may switch to other timezones, like British Summer Time, during the Summer.)datetime timezone awareHowever, none of the datetime objects we've created so far can be easily converted to various timezones. We can solve that problem with thepytzmodule:>>> import pytz\n",
            ">>> then = datetime.datetime.now(pytz.utc)\n",
            ">>> then\n",
            "datetime.datetime(2015, 2, 18, 4, 55, 58, 753949, tzinfo=<UTC>)Equivalently, in Python 3 we have thetimezoneclass with a utctimezoneinstance attached, which also makes the object timezone aware (but to convert to another timezone without the handypytzmodule is left as an exercise to the reader):>>> datetime.datetime.now(datetime.timezone.utc)\n",
            "datetime.datetime(2015, 2, 18, 22, 31, 56, 564191, tzinfo=datetime.timezone.utc)And we see we can easily convert to timezones from the original UTC object.>>> print(then)\n",
            "2015-02-18 04:55:58.753949+00:00\n",
            ">>> print(then.astimezone(pytz.timezone('US/Eastern')))\n",
            "2015-02-17 23:55:58.753949-05:00You can also make a naive datetime object aware with thepytztimezonelocalizemethod, or by replacing the tzinfo attribute (withreplace, this is done blindly), but these are more last resorts than best practices:>>> pytz.utc.localize(datetime.datetime.utcnow())\n",
            "datetime.datetime(2015, 2, 18, 6, 6, 29, 32285, tzinfo=<UTC>)\n",
            ">>> datetime.datetime.utcnow().replace(tzinfo=pytz.utc)\n",
            "datetime.datetime(2015, 2, 18, 6, 9, 30, 728550, tzinfo=<UTC>)Thepytzmodule allows us to make ourdatetimeobjects timezone aware and convert the times to the hundreds of timezones available in thepytzmodule.One could ostensibly serialize this object for UTC time and storethatin a database, but it would require far more memory and be more prone to error than simply storing the Unix Epoch time, which I demonstrated first.The other ways of viewing times are much more error-prone, especially when dealing with data that may come from different time zones. You want there to be no confusion as to which timezone a string or serialized datetime object was intended for.If you're displaying the time with Python for the user,ctimeworks nicely, not in a table (it doesn't typically sort well), but perhaps in a clock. However, I personally recommend, when dealing with time in Python, either using Unix time, or a timezone aware UTCdatetimeobject.\n",
            "\n",
            "********************************************************************************************************************************************************************************************************\n",
            "Answer 6: Dofrom time import time\n",
            "\n",
            "t = time()t- float number, good for time interval measurement.There is some difference for Unix and Windows platforms.\n",
            "\n",
            "********************************************************************************************************************************************************************************************************\n",
            "Answer 7: >>> from time import gmtime, strftime\n",
            ">>> strftime(\"%a, %d %b %Y %X +0000\", gmtime())\n",
            "'Tue, 06 Jan 2009 04:54:56 +0000'That outputs the current GMT in the specified format. There is also alocaltime()method.Thispagehas more details.\n",
            "\n",
            "********************************************************************************************************************************************************************************************************\n",
            "Answer 8: The previous answers are all good suggestions, but I find it easiest to usectime():In [2]: from time import ctime\n",
            "In [3]: ctime()\n",
            "Out[3]: 'Thu Oct 31 11:40:53 2013'This gives a nicely formatted string representation of the current local time.\n",
            "\n",
            "********************************************************************************************************************************************************************************************************\n",
            "Answer 9: The quickest way is:>>> import time\n",
            ">>> time.strftime(\"%Y%m%d\")\n",
            "'20130924'\n",
            "\n",
            "********************************************************************************************************************************************************************************************************\n",
            "Answer 10: If you need current time as atimeobject:>>> import datetime\n",
            ">>> now = datetime.datetime.now()\n",
            ">>> datetime.time(now.hour, now.minute, now.second)\n",
            "datetime.time(11, 23, 44)\n",
            "\n",
            "********************************************************************************************************************************************************************************************************\n",
            "Answer 11: You can use thetimemodule:>>> import time\n",
            ">>> print(time.strftime(\"%d/%m/%Y\"))\n",
            "06/02/2015The use of the capitalYgives the full year, and usingywould give06/02/15.You could also use the following code to give a more lengthy time:>>> time.strftime(\"%a, %d %b %Y %H:%M:%S\")\n",
            "'Fri, 06 Feb 2015 17:45:09'\n",
            "\n",
            "********************************************************************************************************************************************************************************************************\n",
            "Answer 12: .isoformat()is in the documentation, but not yet here\n",
            "(this is mighty similar to @Ray Vega's answer):>>> import datetime\n",
            ">>> datetime.datetime.now().isoformat()\n",
            "'2013-06-24T20:35:55.982000'\n",
            "\n",
            "********************************************************************************************************************************************************************************************************\n",
            "Answer 13: Why not ask theU.S. Naval Observatory, the official timekeeper of the United States Navy?import requests\n",
            "from lxml import html\n",
            "\n",
            "page = requests.get('http://tycho.usno.navy.mil/cgi-bin/timer.pl')\n",
            "tree = html.fromstring(page.content)\n",
            "print(tree.xpath('//html//body//h3//pre/text()')[1])If you live in the D.C. area (like me) the latency might not be too bad...\n",
            "\n",
            "********************************************************************************************************************************************************************************************************\n",
            "Answer 14: Usingpandasto get the current time, kind of overkilling the problem at hand:import pandas as pd\n",
            "print(pd.datetime.now())\n",
            "print(pd.datetime.now().date())\n",
            "print(pd.datetime.now().year)\n",
            "print(pd.datetime.now().month)\n",
            "print(pd.datetime.now().day)\n",
            "print(pd.datetime.now().hour)\n",
            "print(pd.datetime.now().minute)\n",
            "print(pd.datetime.now().second)\n",
            "print(pd.datetime.now().microsecond)Output:2017-09-22 12:44:56.092642\n",
            "2017-09-22\n",
            "2017\n",
            "9\n",
            "22\n",
            "12\n",
            "44\n",
            "56\n",
            "92693\n",
            "\n",
            "********************************************************************************************************************************************************************************************************\n",
            "Answer 15: if you are using numpy already then directly you can use numpy.datetime64() \n",
            "function.import numpy as np\n",
            "str(np.datetime64('now'))for only date:str(np.datetime64('today'))or, if you are using pandas already then you can use pandas.to_datetime() functionimport pandas as pd\n",
            "str(pd.to_datetime('now'))or,str(pd.to_datetime('today'))\n",
            "\n",
            "********************************************************************************************************************************************************************************************************\n",
            "Answer 16: This is what I ended up going with:>>>from time import strftime\n",
            ">>>strftime(\"%m/%d/%Y %H:%M\")\n",
            "01/09/2015 13:11Also, this table is a necessary reference for choosing the appropriate format codes to get the date formatted just the way you want it (from Python \"datetime\" documentationhere).\n",
            "\n",
            "********************************************************************************************************************************************************************************************************\n",
            "Answer 17: datetime.now()returns the current time as a naive datetime object that represents time in the local timezone. That value may be ambiguous e.g., during DST transitions (\"fall back\"). To avoid ambiguity either UTC timezone should be used:from datetime import datetime\n",
            "\n",
            "utc_time = datetime.utcnow()\n",
            "print(utc_time) # -> 2014-12-22 22:48:59.916417Or a timezone-aware object that has the corresponding timezone info attached (Python 3.2+):from datetime import datetime, timezone\n",
            "\n",
            "now = datetime.now(timezone.utc).astimezone()\n",
            "print(now) # -> 2014-12-23 01:49:25.837541+03:00\n",
            "\n",
            "********************************************************************************************************************************************************************************************************\n",
            "Answer 18: This question doesn't need a new answer just for the sake of it ... a shiny new-ish toy/module, however, is enough justification.  That being thePendulum library, which appears to do the sort of things which arrow attempted, except without the inherent flaws and bugs which beset arrow.For instance, the answer to the original question:>>> import pendulum\n",
            ">>> print(pendulum.now())\n",
            "2018-08-14T05:29:28.315802+10:00\n",
            ">>> print(pendulum.now('utc'))\n",
            "2018-08-13T19:29:35.051023+00:00There's a lot of standards which need addressing, including multiple RFCs and ISOs, to worry about.  Ever get them mixed up; not to worry, take a little look intodir(pendulum.constants)There's a bit more than RFC and ISO formats there, though.When we say local, though what do we mean?  Well I mean:>>> print(pendulum.now().timezone_name)\n",
            "Australia/Melbourne\n",
            ">>>Presumably most of the rest of you mean somewhere else.And on it goes.  Long story short: Pendulum attempts to do for date and time what requests did for HTTP.  It's worth consideration, particularly for both its ease of use and extensive documentation.\n",
            "\n",
            "********************************************************************************************************************************************************************************************************\n",
            "Answer 19: import datetime\n",
            "date_time = datetime.datetime.now()\n",
            "\n",
            "date = date_time.date()  # Gives the date\n",
            "time = date_time.time()  # Gives the time\n",
            "\n",
            "print date.year, date.month, date.day\n",
            "print time.hour, time.minute, time.second, time.microsecondDodir(date)or any variables including the package. You can get all the attributes and methods associated with the variable.\n",
            "\n",
            "********************************************************************************************************************************************************************************************************\n",
            "Answer 20: >>> import datetime, time\n",
            ">>> time = time.strftime(\"%H:%M:%S:%MS\", time.localtime())\n",
            ">>> print time\n",
            "'00:21:38:20S'\n",
            "\n",
            "********************************************************************************************************************************************************************************************************\n",
            "Answer 21: By default,now()function returns output in theYYYY-MM-DD HH:MM:SS:MSformat. Use the below sample script to get the current date and time in a Python script and print results on the screen. Create filegetDateTime1.pywith the below content.import datetime\n",
            "\n",
            "currentDT = datetime.datetime.now()\n",
            "print (str(currentDT))The output looks like below:2018-03-01 17:03:46.759624\n",
            "\n",
            "********************************************************************************************************************************************************************************************************\n",
            "Answer 22: Try the arrow module fromhttp://crsmithdev.com/arrow/:import arrow\n",
            "arrow.now()Or the UTC version:arrow.utcnow()To change its output, add .format():arrow.utcnow().format('YYYY-MM-DD HH:mm:ss ZZ')For a specific timezone:arrow.now('US/Pacific')An hour ago:arrow.utcnow().replace(hours=-1)Or if you want the gist.arrow.get('2013-05-11T21:23:58.970460+00:00').humanize()\n",
            ">>> '2 years ago'\n",
            "\n",
            "********************************************************************************************************************************************************************************************************\n",
            "Answer 23: Current time of a timezonefrom datetime import datetime\n",
            "import pytz\n",
            "\n",
            "tz_NY = pytz.timezone('America/New_York') \n",
            "datetime_NY = datetime.now(tz_NY)\n",
            "print(\"NY time:\", datetime_NY.strftime(\"%H:%M:%S\"))\n",
            "\n",
            "tz_London = pytz.timezone('Europe/London')\n",
            "datetime_London = datetime.now(tz_London)\n",
            "print(\"London time:\", datetime_London.strftime(\"%H:%M:%S\"))\n",
            "\n",
            "tz_India = pytz.timezone('Asia/India')\n",
            "datetime_India = datetime.now(tz_India)\n",
            "print(\"India time:\", datetime_India.strftime(\"%H:%M:%S\"))\n",
            "\n",
            "#list timezones\n",
            "pytz.all_timezones\n",
            "\n",
            "********************************************************************************************************************************************************************************************************\n",
            "Answer 24: To get exactly3decimal pointsfor milliseconds11:34:23.751run this:def get_time_str(decimal_points=3):\n",
            "        return time.strftime(\"%H:%M:%S\", time.localtime()) + '.%d' % (time.time() % 1 * 10**decimal_points)More context:I want to get the time with milliseconds. A simple way to get them:import time, datetime\n",
            "\n",
            "print(datetime.datetime.now().time())                         # 11:20:08.272239\n",
            "\n",
            "# Or in a more complicated way\n",
            "print(datetime.datetime.now().time().isoformat())             # 11:20:08.272239\n",
            "print(datetime.datetime.now().time().strftime('%H:%M:%S.%f')) # 11:20:08.272239\n",
            "\n",
            "# But do not use this:\n",
            "print(time.strftime(\"%H:%M:%S.%f\", time.localtime()), str)    # 11:20:08.%fBut I wantonly milliseconds, right? The shortest way to get them:import time\n",
            "\n",
            "time.strftime(\"%H:%M:%S\", time.localtime()) + '.%d' % (time.time() % 1 * 1000)\n",
            "# 11:34:23.751Add or remove zeroes from the last multiplication to adjust number of decimal points, or just:def get_time_str(decimal_points=3):\n",
            "    return time.strftime(\"%H:%M:%S\", time.localtime()) + '.%d' % (time.time() % 1 * 10**decimal_points)\n",
            "\n",
            "********************************************************************************************************************************************************************************************************\n",
            "Answer 25: If you just want the current timestamp in ms (for example, to measure execution time), you can also use the \"timeit\" module:import timeit\n",
            "start_time = timeit.default_timer()\n",
            "do_stuff_you_want_to_measure()\n",
            "end_time = timeit.default_timer()\n",
            "print(\"Elapsed time: {}\".format(end_time - start_time))\n",
            "\n",
            "********************************************************************************************************************************************************************************************************\n",
            "Answer 26: You can use this function to get the time (unfortunately it doesn't say AM or PM):def gettime():\n",
            "    from datetime import datetime\n",
            "    return ((str(datetime.now())).split(' ')[1]).split('.')[0]To get the hours, minutes, seconds and milliseconds to merge later, you can use these functions:Hour:def gethour():\n",
            "    from datetime import datetime\n",
            "    return (((str(datetime.now())).split(' ')[1]).split('.')[0]).split(':')[0]Minute:def getminute():\n",
            "    from datetime import datetime\n",
            "    return (((str(datetime.now())).split(' ')[1]).split('.')[0]).split(':')[1]Second:def getsecond():\n",
            "    from datetime import datetime\n",
            "    return (((str(datetime.now())).split(' ')[1]).split('.')[0]).split(':')[2]Millisecond:def getmillisecond():\n",
            "    from datetime import datetime\n",
            "    return (str(datetime.now())).split('.')[1]\n",
            "\n",
            "********************************************************************************************************************************************************************************************************\n",
            "Answer 27: You can  try the followingimport datetime\n",
            "\n",
            "now = datetime.datetime.now()\n",
            "print(now)orimport datetime\n",
            "\n",
            "now = datetime.datetime.now()\n",
            "print(now.strftime(\"%Y-%b-%d, %A %I:%M:%S\"))\n",
            "\n",
            "********************************************************************************************************************************************************************************************************\n",
            "Answer 28: Because no one has mentioned it yet, and this is something I ran into recently... a pytz timezone's fromutc() method combined with datetime's utcnow() is the best way I've found to get a useful current time (and date) in any timezone.from datetime import datetime\n",
            "\n",
            "import pytz\n",
            "\n",
            "\n",
            "JST = pytz.timezone(\"Asia/Tokyo\")\n",
            "\n",
            "\n",
            "local_time = JST.fromutc(datetime.utcnow())If all you want is the time, you can then get that withlocal_time.time().\n",
            "\n",
            "********************************************************************************************************************************************************************************************************\n",
            "Answer 29: import datetime\n",
            "\n",
            "todays_date = datetime.date.today()\n",
            "print(todays_date)\n",
            ">>> 2019-10-12\n",
            "\n",
            "# adding strftime will remove the seconds\n",
            "current_time = datetime.datetime.now().strftime('%H:%M')\n",
            "print(current_time)\n",
            ">>> 23:38\n",
            "\n",
            "********************************************************************************************************************************************************************************************************\n",
            "Answer 30: You can do so using ctime():from time import time, ctime\n",
            "t = time()\n",
            "ctime(t)output:Sat Sep 14 21:27:08 2019These outputs are different because the timestamp returned byctime()depends on your geographical location.\n",
            "\n",
            "********************************************************************************************************************************************************************************************************\n"
          ]
        }
      ]
    },
    {
      "cell_type": "code",
      "source": [],
      "metadata": {
        "id": "vSwMxZyyYvCj"
      },
      "execution_count": null,
      "outputs": []
    }
  ]
}